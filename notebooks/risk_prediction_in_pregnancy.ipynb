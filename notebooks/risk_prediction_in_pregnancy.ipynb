{
  "nbformat": 4,
  "nbformat_minor": 0,
  "metadata": {
    "colab": {
      "provenance": [],
      "gpuType": "T4"
    },
    "kernelspec": {
      "name": "python3",
      "display_name": "Python 3"
    },
    "language_info": {
      "name": "python"
    },
    "accelerator": "GPU"
  },
  "cells": [
    {
      "cell_type": "code",
      "source": [
        "# train_model_a_xgb.py\n",
        "import pandas as pd\n",
        "import numpy as np\n",
        "from sklearn.preprocessing import LabelEncoder, StandardScaler\n",
        "from imblearn.over_sampling import SMOTE\n",
        "from sklearn.model_selection import train_test_split\n",
        "from sklearn.metrics import classification_report, accuracy_score, confusion_matrix\n",
        "from xgboost import XGBClassifier\n",
        "import joblib\n",
        "import os\n",
        "\n",
        "# -------------------------------\n",
        "# Load dataset\n",
        "# -------------------------------\n",
        "df = pd.read_csv(\"data/Maternal Health Risk Data Set.csv\")\n",
        "\n",
        "# -------------------------------\n",
        "# Encode target\n",
        "# -------------------------------\n",
        "le = LabelEncoder()\n",
        "df[\"RiskLevelEncoded\"] = le.fit_transform(df[\"RiskLevel\"])\n",
        "\n",
        "# -------------------------------\n",
        "# Add derived feature\n",
        "# -------------------------------\n",
        "df[\"PulsePressure\"] = df[\"SystolicBP\"] - df[\"DiastolicBP\"]\n",
        "\n",
        "# -------------------------------\n",
        "# Features & target\n",
        "# -------------------------------\n",
        "X = df.drop(columns=[\"RiskLevel\", \"RiskLevelEncoded\"])\n",
        "y = df[\"RiskLevelEncoded\"]\n",
        "\n",
        "# -------------------------------\n",
        "# Scale features\n",
        "# -------------------------------\n",
        "scaler = StandardScaler()\n",
        "X_scaled = scaler.fit_transform(X)\n",
        "\n",
        "# Convert scaled array back to DataFrame with column names ✅\n",
        "X_scaled_df = pd.DataFrame(X_scaled, columns=X.columns)\n",
        "\n",
        "# -------------------------------\n",
        "# Handle imbalance with SMOTE\n",
        "# -------------------------------\n",
        "sm = SMOTE(random_state=42)\n",
        "X_res, y_res = sm.fit_resample(X_scaled_df, y)\n",
        "\n",
        "# -------------------------------\n",
        "# Train/test split\n",
        "# -------------------------------\n",
        "X_train, X_test, y_train, y_test = train_test_split(\n",
        "    X_res, y_res, test_size=0.2, random_state=42, stratify=y_res\n",
        ")\n",
        "\n",
        "# -------------------------------\n",
        "# Train XGBoost\n",
        "# -------------------------------\n",
        "xgb = XGBClassifier(\n",
        "    n_estimators=500,\n",
        "    learning_rate=0.05,\n",
        "    max_depth=5,\n",
        "    use_label_encoder=False,\n",
        "    eval_metric=\"mlogloss\",\n",
        "    random_state=42\n",
        ")\n",
        "xgb.fit(X_train, y_train)  # ✅ X_train is a DataFrame with column names\n",
        "\n",
        "# -------------------------------\n",
        "# Evaluate\n",
        "# -------------------------------\n",
        "y_pred = xgb.predict(X_test)\n",
        "acc = accuracy_score(y_test, y_pred)\n",
        "print(f\"XGBoost Accuracy: {acc*100:.2f}%\")\n",
        "print(\"\\nClassification Report:\\n\", classification_report(y_test, y_pred, target_names=le.classes_))\n",
        "print(\"\\nConfusion Matrix:\\n\", confusion_matrix(y_test, y_pred))\n",
        "\n",
        "# -------------------------------\n",
        "# Save model artifacts\n",
        "# -------------------------------\n",
        "os.makedirs(\"artifacts\", exist_ok=True)\n",
        "\n",
        "joblib.dump(xgb, \"artifacts/model_a_xgb.joblib\")\n",
        "joblib.dump(scaler, \"artifacts/scaler_model_a.joblib\")\n",
        "joblib.dump(le, \"artifacts/label_encoder_model_a.joblib\")\n",
        "\n",
        "print(\"\\n✅ Saved model artifacts in 'artifacts/' folder:\")\n",
        "print(\"   - model_a_xgb.joblib\")\n",
        "print(\"   - scaler_model_a.joblib\")\n",
        "print(\"   - label_encoder_model_a.joblib\")\n",
        "\n",
        "# -------------------------------\n",
        "# Verify feature names are stored ✅\n",
        "# -------------------------------\n",
        "try:\n",
        "    print(\"\\n✅ XGB feature names:\", xgb.get_booster().feature_names)\n",
        "except Exception as e:\n",
        "    print(\"⚠️ Couldn't fetch feature names:\", e)\n"
      ],
      "metadata": {
        "colab": {
          "base_uri": "https://localhost:8080/"
        },
        "id": "RrrKmrD9H9Ek",
        "outputId": "0bba3275-ffd7-4656-8b86-b386d16081dc"
      },
      "execution_count": null,
      "outputs": [
        {
          "output_type": "stream",
          "name": "stderr",
          "text": [
            "/usr/local/lib/python3.12/dist-packages/xgboost/training.py:199: UserWarning: [16:09:12] WARNING: /workspace/src/learner.cc:790: \n",
            "Parameters: { \"use_label_encoder\" } are not used.\n",
            "\n",
            "  bst.update(dtrain, iteration=i, fobj=obj)\n"
          ]
        },
        {
          "output_type": "stream",
          "name": "stdout",
          "text": [
            "XGBoost Accuracy: 85.25%\n",
            "\n",
            "Classification Report:\n",
            "               precision    recall  f1-score   support\n",
            "\n",
            "   high risk       0.89      0.95      0.92        81\n",
            "    low risk       0.89      0.80      0.84        81\n",
            "    mid risk       0.79      0.80      0.80        82\n",
            "\n",
            "    accuracy                           0.85       244\n",
            "   macro avg       0.85      0.85      0.85       244\n",
            "weighted avg       0.85      0.85      0.85       244\n",
            "\n",
            "\n",
            "Confusion Matrix:\n",
            " [[77  0  4]\n",
            " [ 2 65 14]\n",
            " [ 8  8 66]]\n",
            "\n",
            "✅ Saved model artifacts in 'artifacts/' folder:\n",
            "   - model_a_xgb.joblib\n",
            "   - scaler_model_a.joblib\n",
            "   - label_encoder_model_a.joblib\n",
            "\n",
            "✅ XGB feature names: ['Age', 'SystolicBP', 'DiastolicBP', 'BS', 'BodyTemp', 'HeartRate', 'PulsePressure']\n"
          ]
        }
      ]
    },
    {
      "cell_type": "code",
      "source": [
        "from google.colab import files\n",
        "files.download(\"artifacts/model_a_xgb.joblib\")\n",
        "files.download(\"artifacts/scaler_model_a.joblib\")\n",
        "files.download(\"artifacts/label_encoder_model_a.joblib\")\n"
      ],
      "metadata": {
        "colab": {
          "base_uri": "https://localhost:8080/",
          "height": 69
        },
        "id": "VhJNv4LUIeN5",
        "outputId": "48b17747-2f0f-4e75-d18a-0937dc2198d7"
      },
      "execution_count": null,
      "outputs": [
        {
          "output_type": "display_data",
          "data": {
            "text/plain": [
              "<IPython.core.display.Javascript object>"
            ],
            "application/javascript": [
              "\n",
              "    async function download(id, filename, size) {\n",
              "      if (!google.colab.kernel.accessAllowed) {\n",
              "        return;\n",
              "      }\n",
              "      const div = document.createElement('div');\n",
              "      const label = document.createElement('label');\n",
              "      label.textContent = `Downloading \"${filename}\": `;\n",
              "      div.appendChild(label);\n",
              "      const progress = document.createElement('progress');\n",
              "      progress.max = size;\n",
              "      div.appendChild(progress);\n",
              "      document.body.appendChild(div);\n",
              "\n",
              "      const buffers = [];\n",
              "      let downloaded = 0;\n",
              "\n",
              "      const channel = await google.colab.kernel.comms.open(id);\n",
              "      // Send a message to notify the kernel that we're ready.\n",
              "      channel.send({})\n",
              "\n",
              "      for await (const message of channel.messages) {\n",
              "        // Send a message to notify the kernel that we're ready.\n",
              "        channel.send({})\n",
              "        if (message.buffers) {\n",
              "          for (const buffer of message.buffers) {\n",
              "            buffers.push(buffer);\n",
              "            downloaded += buffer.byteLength;\n",
              "            progress.value = downloaded;\n",
              "          }\n",
              "        }\n",
              "      }\n",
              "      const blob = new Blob(buffers, {type: 'application/binary'});\n",
              "      const a = document.createElement('a');\n",
              "      a.href = window.URL.createObjectURL(blob);\n",
              "      a.download = filename;\n",
              "      div.appendChild(a);\n",
              "      a.click();\n",
              "      div.remove();\n",
              "    }\n",
              "  "
            ]
          },
          "metadata": {}
        },
        {
          "output_type": "display_data",
          "data": {
            "text/plain": [
              "<IPython.core.display.Javascript object>"
            ],
            "application/javascript": [
              "download(\"download_0ed855c2-fe84-49a5-8da5-93a779e9c4e5\", \"model_a_xgb.joblib\", 2421835)"
            ]
          },
          "metadata": {}
        },
        {
          "output_type": "display_data",
          "data": {
            "text/plain": [
              "<IPython.core.display.Javascript object>"
            ],
            "application/javascript": [
              "\n",
              "    async function download(id, filename, size) {\n",
              "      if (!google.colab.kernel.accessAllowed) {\n",
              "        return;\n",
              "      }\n",
              "      const div = document.createElement('div');\n",
              "      const label = document.createElement('label');\n",
              "      label.textContent = `Downloading \"${filename}\": `;\n",
              "      div.appendChild(label);\n",
              "      const progress = document.createElement('progress');\n",
              "      progress.max = size;\n",
              "      div.appendChild(progress);\n",
              "      document.body.appendChild(div);\n",
              "\n",
              "      const buffers = [];\n",
              "      let downloaded = 0;\n",
              "\n",
              "      const channel = await google.colab.kernel.comms.open(id);\n",
              "      // Send a message to notify the kernel that we're ready.\n",
              "      channel.send({})\n",
              "\n",
              "      for await (const message of channel.messages) {\n",
              "        // Send a message to notify the kernel that we're ready.\n",
              "        channel.send({})\n",
              "        if (message.buffers) {\n",
              "          for (const buffer of message.buffers) {\n",
              "            buffers.push(buffer);\n",
              "            downloaded += buffer.byteLength;\n",
              "            progress.value = downloaded;\n",
              "          }\n",
              "        }\n",
              "      }\n",
              "      const blob = new Blob(buffers, {type: 'application/binary'});\n",
              "      const a = document.createElement('a');\n",
              "      a.href = window.URL.createObjectURL(blob);\n",
              "      a.download = filename;\n",
              "      div.appendChild(a);\n",
              "      a.click();\n",
              "      div.remove();\n",
              "    }\n",
              "  "
            ]
          },
          "metadata": {}
        },
        {
          "output_type": "display_data",
          "data": {
            "text/plain": [
              "<IPython.core.display.Javascript object>"
            ],
            "application/javascript": [
              "download(\"download_4f23c122-7a5b-442c-ac77-34e31b3457d4\", \"scaler_model_a.joblib\", 1087)"
            ]
          },
          "metadata": {}
        },
        {
          "output_type": "display_data",
          "data": {
            "text/plain": [
              "<IPython.core.display.Javascript object>"
            ],
            "application/javascript": [
              "\n",
              "    async function download(id, filename, size) {\n",
              "      if (!google.colab.kernel.accessAllowed) {\n",
              "        return;\n",
              "      }\n",
              "      const div = document.createElement('div');\n",
              "      const label = document.createElement('label');\n",
              "      label.textContent = `Downloading \"${filename}\": `;\n",
              "      div.appendChild(label);\n",
              "      const progress = document.createElement('progress');\n",
              "      progress.max = size;\n",
              "      div.appendChild(progress);\n",
              "      document.body.appendChild(div);\n",
              "\n",
              "      const buffers = [];\n",
              "      let downloaded = 0;\n",
              "\n",
              "      const channel = await google.colab.kernel.comms.open(id);\n",
              "      // Send a message to notify the kernel that we're ready.\n",
              "      channel.send({})\n",
              "\n",
              "      for await (const message of channel.messages) {\n",
              "        // Send a message to notify the kernel that we're ready.\n",
              "        channel.send({})\n",
              "        if (message.buffers) {\n",
              "          for (const buffer of message.buffers) {\n",
              "            buffers.push(buffer);\n",
              "            downloaded += buffer.byteLength;\n",
              "            progress.value = downloaded;\n",
              "          }\n",
              "        }\n",
              "      }\n",
              "      const blob = new Blob(buffers, {type: 'application/binary'});\n",
              "      const a = document.createElement('a');\n",
              "      a.href = window.URL.createObjectURL(blob);\n",
              "      a.download = filename;\n",
              "      div.appendChild(a);\n",
              "      a.click();\n",
              "      div.remove();\n",
              "    }\n",
              "  "
            ]
          },
          "metadata": {}
        },
        {
          "output_type": "display_data",
          "data": {
            "text/plain": [
              "<IPython.core.display.Javascript object>"
            ],
            "application/javascript": [
              "download(\"download_198fc725-9272-4fb0-8ce6-5704e426f5aa\", \"label_encoder_model_a.joblib\", 507)"
            ]
          },
          "metadata": {}
        }
      ]
    }
  ]
}